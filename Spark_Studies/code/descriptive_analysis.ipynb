{
 "cells": [
  {
   "cell_type": "code",
   "execution_count": 1,
   "metadata": {},
   "outputs": [
    {
     "name": "stdout",
     "output_type": "stream",
     "text": [
      "23/02/01 21:41:37 WARN Utils: Your hostname, Davis-MacBook-Air.local resolves to a loopback address: 127.0.0.1; using 192.168.1.12 instead (on interface en0)\n",
      "23/02/01 21:41:37 WARN Utils: Set SPARK_LOCAL_IP if you need to bind to another address\n"
     ]
    },
    {
     "name": "stderr",
     "output_type": "stream",
     "text": [
      "Setting default log level to \"WARN\".\n",
      "To adjust logging level use sc.setLogLevel(newLevel). For SparkR, use setLogLevel(newLevel).\n"
     ]
    },
    {
     "name": "stdout",
     "output_type": "stream",
     "text": [
      "23/02/01 21:41:37 WARN NativeCodeLoader: Unable to load native-hadoop library for your platform... using builtin-java classes where applicable\n"
     ]
    }
   ],
   "source": [
    "from pyspark.sql import SparkSession\n",
    "import pyspark.sql.functions as f\n",
    "from pyspark.sql.types import *\n",
    "from pyspark.sql.window import Window\n",
    "import numpy as np\n",
    "\n",
    "spark = SparkSession.builder.getOrCreate()"
   ]
  },
  {
   "attachments": {},
   "cell_type": "markdown",
   "metadata": {},
   "source": [
    "# Descriptive Analysis"
   ]
  },
  {
   "cell_type": "code",
   "execution_count": 2,
   "metadata": {},
   "outputs": [
    {
     "name": "stderr",
     "output_type": "stream",
     "text": [
      "                                                                                \r"
     ]
    }
   ],
   "source": [
    "# read parquet file\n",
    "df = spark.read.parquet(\"../Uber_Lyft_Cab_prices/df_final.parquet/\")"
   ]
  },
  {
   "cell_type": "code",
   "execution_count": 3,
   "metadata": {},
   "outputs": [
    {
     "name": "stderr",
     "output_type": "stream",
     "text": [
      "                                                                                \r"
     ]
    },
    {
     "name": "stdout",
     "output_type": "stream",
     "text": [
      "+--------+--------+-------------+----------------+-----+----------------+--------------------+------------+------------+----------------+----+-----------+-----+-----+------+--------+------+--------+-----+\n",
      "|distance|cab_type|  destination|          source|price|surge_multiplier|                  id|  product_id|        name|             day|hour|day_of_week|month| temp|clouds|pressure|  rain|humidity| wind|\n",
      "+--------+--------+-------------+----------------+-----+----------------+--------------------+------------+------------+----------------+----+-----------+-----+-----+------+--------+------+--------+-----+\n",
      "|    0.44|    Lyft|North Station|Haymarket Square|  5.0|             1.0|424553bb-7174-41e...|   lyft_line|      Shared|2018-12-16 07:30|   7|     Sunday|   12|38.46|  0.29| 1022.25|   0.0|    0.76| 7.68|\n",
      "|    0.44|    Lyft|North Station|Haymarket Square| 11.0|             1.0|4bd23055-6827-41c...|lyft_premier|         Lux|2018-11-27 00:00|   0|    Tuesday|   11|43.82|  0.99| 1002.59|0.0997|    0.89|11.57|\n",
      "|    0.44|    Lyft|North Station|Haymarket Square| 11.0|             1.0|4bd23055-6827-41c...|lyft_premier|         Lux|2018-11-27 00:00|   0|    Tuesday|   11|44.31|   1.0| 1003.17|0.1123|     0.9|13.69|\n",
      "|    0.44|    Lyft|North Station|Haymarket Square| 26.0|             1.0|c2d88af2-d278-4bf...| lyft_luxsuv|Lux Black XL|2018-11-30 02:53|   2|     Friday|   11|35.08|   0.0| 1013.71|   0.0|     0.7| 5.25|\n",
      "|    0.44|    Lyft|North Station|Haymarket Square|  9.0|             1.0|e0126e1f-8ca9-4f2...|   lyft_plus|     Lyft XL|2018-11-29 01:49|   1|   Thursday|   11|37.66|  0.41|  998.42|   0.0|    0.71|11.16|\n",
      "+--------+--------+-------------+----------------+-----+----------------+--------------------+------------+------------+----------------+----+-----------+-----+-----+------+--------+------+--------+-----+\n",
      "only showing top 5 rows\n",
      "\n"
     ]
    }
   ],
   "source": [
    "df.show(5)"
   ]
  },
  {
   "cell_type": "code",
   "execution_count": 5,
   "metadata": {},
   "outputs": [
    {
     "name": "stderr",
     "output_type": "stream",
     "text": [
      "                                                                                \r"
     ]
    },
    {
     "data": {
      "text/plain": [
       "['Lyft', 'Uber']"
      ]
     },
     "execution_count": 5,
     "metadata": {},
     "output_type": "execute_result"
    }
   ],
   "source": [
    "cab_type_distinct = df.select(\"cab_type\").distinct().collect()\n",
    "cab_type_distinct = [row.cab_type for row in cab_type_distinct]\n",
    "cab_type_distinct"
   ]
  },
  {
   "cell_type": "code",
   "execution_count": 6,
   "metadata": {},
   "outputs": [
    {
     "name": "stderr",
     "output_type": "stream",
     "text": [
      "[Stage 8:>                                                          (0 + 8) / 8]\r"
     ]
    },
    {
     "name": "stdout",
     "output_type": "stream",
     "text": [
      "+--------+------+\n",
      "|cab_type| count|\n",
      "+--------+------+\n",
      "|    Lyft|561118|\n",
      "|    Uber|603878|\n",
      "+--------+------+\n",
      "\n"
     ]
    },
    {
     "name": "stderr",
     "output_type": "stream",
     "text": [
      "                                                                                \r"
     ]
    }
   ],
   "source": [
    "cat_cab_type = df.groupBy(\"cab_type\").count().show()"
   ]
  },
  {
   "cell_type": "code",
   "execution_count": 7,
   "metadata": {},
   "outputs": [
    {
     "data": {
      "text/plain": [
       "12"
      ]
     },
     "execution_count": 7,
     "metadata": {},
     "output_type": "execute_result"
    }
   ],
   "source": [
    "destinations = df.select(\"destination\").distinct().collect()\n",
    "destinations = [row.destination for row in destinations]\n",
    "len(destinations)"
   ]
  },
  {
   "cell_type": "code",
   "execution_count": 8,
   "metadata": {},
   "outputs": [
    {
     "name": "stdout",
     "output_type": "stream",
     "text": [
      "+--------------------+-----+\n",
      "|         destination|count|\n",
      "+--------------------+-----+\n",
      "|  Financial District|98804|\n",
      "|   Boston University|97858|\n",
      "|       South Station|97392|\n",
      "|            Back Bay|97354|\n",
      "|           North End|97240|\n",
      "|         Beacon Hill|97085|\n",
      "|              Fenway|97035|\n",
      "|            West End|96981|\n",
      "|Northeastern Univ...|96917|\n",
      "|    Haymarket Square|96688|\n",
      "|       North Station|95924|\n",
      "|    Theatre District|95718|\n",
      "+--------------------+-----+\n",
      "\n"
     ]
    }
   ],
   "source": [
    "each_destination = df.groupBy(\"destination\").count().orderBy(\"count\", ascending=False).show()"
   ]
  },
  {
   "cell_type": "code",
   "execution_count": 9,
   "metadata": {},
   "outputs": [
    {
     "name": "stdout",
     "output_type": "stream",
     "text": [
      "+--------------------+-----+\n",
      "|              source|count|\n",
      "+--------------------+-----+\n",
      "|  Financial District|99448|\n",
      "|Northeastern Univ...|97334|\n",
      "|         Beacon Hill|97318|\n",
      "|    Haymarket Square|97171|\n",
      "|            Back Bay|97165|\n",
      "|           North End|97114|\n",
      "|   Boston University|97005|\n",
      "|       South Station|96951|\n",
      "|            West End|96889|\n",
      "|    Theatre District|96495|\n",
      "|              Fenway|96291|\n",
      "|       North Station|95815|\n",
      "+--------------------+-----+\n",
      "\n"
     ]
    }
   ],
   "source": [
    "each_source = df.groupBy(\"source\").count().orderBy(\"count\", ascending=False).show()"
   ]
  },
  {
   "cell_type": "code",
   "execution_count": 10,
   "metadata": {},
   "outputs": [
    {
     "name": "stderr",
     "output_type": "stream",
     "text": [
      "                                                                                \r"
     ]
    },
    {
     "name": "stdout",
     "output_type": "stream",
     "text": [
      "+--------------------+--------------------+-----+\n",
      "|              source|         destination|count|\n",
      "+--------------------+--------------------+-----+\n",
      "|           North End|         Beacon Hill|17679|\n",
      "|       South Station|  Financial District|17474|\n",
      "|  Financial District|       South Station|17331|\n",
      "|            Back Bay|           North End|17307|\n",
      "|         Beacon Hill|           North End|17207|\n",
      "|    Haymarket Square|  Financial District|17147|\n",
      "|            West End|              Fenway|17106|\n",
      "|              Fenway|            West End|17081|\n",
      "|           North End|            Back Bay|17029|\n",
      "|   Boston University|            West End|16992|\n",
      "|  Financial District|              Fenway|16822|\n",
      "|       South Station|    Theatre District|16765|\n",
      "|    Theatre District|   Boston University|16749|\n",
      "|  Financial District|   Boston University|16715|\n",
      "|  Financial District|    Haymarket Square|16651|\n",
      "|    Theatre District|    Haymarket Square|16642|\n",
      "|       North Station|              Fenway|16587|\n",
      "|              Fenway|            Back Bay|16526|\n",
      "|         Beacon Hill|Northeastern Univ...|16492|\n",
      "|    Haymarket Square|       North Station|16462|\n",
      "|            West End|   Boston University|16455|\n",
      "|   Boston University|  Financial District|16446|\n",
      "|Northeastern Univ...|            Back Bay|16442|\n",
      "|    Theatre District|       South Station|16430|\n",
      "|  Financial District|Northeastern Univ...|16353|\n",
      "|              Fenway|       North Station|16268|\n",
      "|   Boston University|    Theatre District|16259|\n",
      "|         Beacon Hill|    Haymarket Square|16245|\n",
      "|Northeastern Univ...|         Beacon Hill|16219|\n",
      "|Northeastern Univ...|       North Station|16197|\n",
      "|Northeastern Univ...|  Financial District|16183|\n",
      "|            Back Bay|       South Station|16157|\n",
      "|Northeastern Univ...|            West End|16156|\n",
      "|    Haymarket Square|    Theatre District|16146|\n",
      "|            Back Bay|Northeastern Univ...|16138|\n",
      "|Northeastern Univ...|    Theatre District|16137|\n",
      "|            Back Bay|   Boston University|16102|\n",
      "|       North Station|Northeastern Univ...|16082|\n",
      "|              Fenway|  Financial District|16060|\n",
      "|    Theatre District|Northeastern Univ...|16059|\n",
      "|       North Station|   Boston University|16039|\n",
      "|            West End|       South Station|16014|\n",
      "|       South Station|            Back Bay|16006|\n",
      "|   Boston University|         Beacon Hill|15964|\n",
      "|    Haymarket Square|            Back Bay|15942|\n",
      "|   Boston University|       North Station|15935|\n",
      "|            West End|           North End|15900|\n",
      "|       South Station|         Beacon Hill|15851|\n",
      "|            Back Bay|    Haymarket Square|15827|\n",
      "|         Beacon Hill|       South Station|15826|\n",
      "+--------------------+--------------------+-----+\n",
      "only showing top 50 rows\n",
      "\n"
     ]
    }
   ],
   "source": [
    "source_destination = df.groupBy(\"source\", \"destination\").count().orderBy(\"count\", ascending=False).show(50)"
   ]
  }
 ],
 "metadata": {
  "kernelspec": {
   "display_name": "spark_studies",
   "language": "python",
   "name": "python3"
  },
  "language_info": {
   "codemirror_mode": {
    "name": "ipython",
    "version": 3
   },
   "file_extension": ".py",
   "mimetype": "text/x-python",
   "name": "python",
   "nbconvert_exporter": "python",
   "pygments_lexer": "ipython3",
   "version": "3.10.6"
  },
  "orig_nbformat": 4,
  "vscode": {
   "interpreter": {
    "hash": "2bbfa58da02732598eb6cbb078e0d210c079e2fbe2ae9211202bccc7598d6c86"
   }
  }
 },
 "nbformat": 4,
 "nbformat_minor": 2
}
