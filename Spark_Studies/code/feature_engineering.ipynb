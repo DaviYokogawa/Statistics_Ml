{
 "cells": [
  {
   "cell_type": "code",
   "execution_count": 101,
   "metadata": {},
   "outputs": [],
   "source": [
    "from pyspark.sql import SparkSession\n",
    "import pyspark.sql.functions as f\n",
    "from pyspark.sql.types import *\n",
    "from pyspark.sql.window import Window\n",
    "import numpy as np\n",
    "\n",
    "spark = SparkSession.builder.getOrCreate()"
   ]
  },
  {
   "cell_type": "code",
   "execution_count": 126,
   "metadata": {},
   "outputs": [
    {
     "name": "stderr",
     "output_type": "stream",
     "text": [
      "                                                                                \r"
     ]
    }
   ],
   "source": [
    "cab_rides = spark.read.csv(\"../Uber_Lyft_Cab_prices/cab_rides.csv\", header=True, inferSchema=True)\n",
    "weather = spark.read.csv(\"../Uber_Lyft_Cab_prices/weather.csv\", header=True, inferSchema=True)"
   ]
  },
  {
   "attachments": {},
   "cell_type": "markdown",
   "metadata": {},
   "source": [
    "# Feature Engineering"
   ]
  },
  {
   "cell_type": "code",
   "execution_count": 127,
   "metadata": {},
   "outputs": [],
   "source": [
    "cab_rides = (cab_rides\n",
    "            .withColumn(\"day\", f.from_unixtime(f.col(\"time_stamp\")/1000, \"yyyy-MM-dd HH:mm\"))\n",
    "            .withColumn(\"time_hour\", f.from_unixtime(f.col(\"time_stamp\")/1000, \"yyyy-MM-dd HH\"))\n",
    "            .withColumn(\"hour\", f.from_unixtime(f.col(\"time_stamp\")/1000, \"HH\").cast(IntegerType()))\n",
    "            .withColumn(\"day_of_week\", f.from_unixtime(f.col(\"time_stamp\")/1000, \"EEEE\"))\n",
    "            .withColumn(\"month\", f.from_unixtime(f.col(\"time_stamp\")/1000, \"MM\").cast(IntegerType()))\n",
    ")\n",
    "weather = (weather\n",
    "            .withColumn(\"time_hour\", f.from_unixtime(f.col(\"time_stamp\"), \"yyyy-MM-dd HH\"))\n",
    ")"
   ]
  },
  {
   "cell_type": "code",
   "execution_count": 128,
   "metadata": {},
   "outputs": [
    {
     "name": "stdout",
     "output_type": "stream",
     "text": [
      "cab_rides dim:  (693071, 15)\n",
      "weather dim:  (6276, 9)\n"
     ]
    }
   ],
   "source": [
    "print(\"cab_rides dim: \", (cab_rides.count(), len(cab_rides.columns)))\n",
    "print(\"weather dim: \", (weather.count(), len(weather.columns)))"
   ]
  },
  {
   "cell_type": "code",
   "execution_count": 129,
   "metadata": {},
   "outputs": [],
   "source": [
    "df = cab_rides.join(weather, on=(cab_rides[\"time_hour\"] == weather[\"time_hour\"]) & (cab_rides[\"source\"] == weather[\"location\"])).drop(\"time_hour\", \"location\", \"time_stamp\")"
   ]
  },
  {
   "cell_type": "code",
   "execution_count": 130,
   "metadata": {},
   "outputs": [
    {
     "name": "stdout",
     "output_type": "stream",
     "text": [
      "+--------+--------+-------------+----------------+-----+----------------+--------------------+------------+------------+----------------+----+-----------+-----+-----+------+--------+------+--------+-----+\n",
      "|distance|cab_type|  destination|          source|price|surge_multiplier|                  id|  product_id|        name|             day|hour|day_of_week|month| temp|clouds|pressure|  rain|humidity| wind|\n",
      "+--------+--------+-------------+----------------+-----+----------------+--------------------+------------+------------+----------------+----+-----------+-----+-----+------+--------+------+--------+-----+\n",
      "|    0.44|    Lyft|North Station|Haymarket Square|  5.0|             1.0|424553bb-7174-41e...|   lyft_line|      Shared|2018-12-16 07:30|   7|     Sunday|   12|38.46|  0.29| 1022.25|  null|    0.76| 7.68|\n",
      "|    0.44|    Lyft|North Station|Haymarket Square| 11.0|             1.0|4bd23055-6827-41c...|lyft_premier|         Lux|2018-11-27 00:00|   0|    Tuesday|   11|43.82|  0.99| 1002.59|0.0997|    0.89|11.57|\n",
      "|    0.44|    Lyft|North Station|Haymarket Square| 11.0|             1.0|4bd23055-6827-41c...|lyft_premier|         Lux|2018-11-27 00:00|   0|    Tuesday|   11|44.31|   1.0| 1003.17|0.1123|     0.9|13.69|\n",
      "|    0.44|    Lyft|North Station|Haymarket Square| 26.0|             1.0|c2d88af2-d278-4bf...| lyft_luxsuv|Lux Black XL|2018-11-30 02:53|   2|     Friday|   11|35.08|   0.0| 1013.71|  null|     0.7| 5.25|\n",
      "|    0.44|    Lyft|North Station|Haymarket Square|  9.0|             1.0|e0126e1f-8ca9-4f2...|   lyft_plus|     Lyft XL|2018-11-29 01:49|   1|   Thursday|   11|37.66|  0.41|  998.42|  null|    0.71|11.16|\n",
      "+--------+--------+-------------+----------------+-----+----------------+--------------------+------------+------------+----------------+----+-----------+-----+-----+------+--------+------+--------+-----+\n",
      "only showing top 5 rows\n",
      "\n"
     ]
    }
   ],
   "source": [
    "df.show(5)"
   ]
  },
  {
   "cell_type": "code",
   "execution_count": 131,
   "metadata": {},
   "outputs": [
    {
     "name": "stderr",
     "output_type": "stream",
     "text": [
      "[Stage 257:>                                                        (0 + 8) / 8]\r"
     ]
    },
    {
     "name": "stdout",
     "output_type": "stream",
     "text": [
      "+-------+------------------+------------------+-------------------+------------------+------------------+----------------+------------------+------------------+-------------------+-------------------+-----------------+\n",
      "|summary|          distance|             price|   surge_multiplier|              hour|             month|            temp|            clouds|          pressure|               rain|           humidity|             wind|\n",
      "+-------+------------------+------------------+-------------------+------------------+------------------+----------------+------------------+------------------+-------------------+-------------------+-----------------+\n",
      "|  count|           1265675|           1164996|            1265675|           1265675|           1265675|         1265675|           1265675|           1265675|             206947|            1265675|          1265675|\n",
      "|   mean|2.1895901159455953|16.543447041878256| 1.0138785628222096|12.056116301578209|11.329610682047129|39.2568016354924|0.6803706717759423|1004.9854037015754|0.06824341981279917|  0.753850696268749|7.693639796946587|\n",
      "| stddev|1.1398287002498673| 9.325772782932223|0.09134762260791157| 7.470763983542356|0.4700719678010872| 5.4711452501396| 0.299693852672619|12.693588742411366|0.10982933370572072|0.11955258913401076|3.448785249544568|\n",
      "|    min|              0.02|               2.5|                1.0|                 0|                11|           19.62|               0.0|            988.25|             2.0E-4|               0.45|             0.29|\n",
      "|    max|              7.86|              97.5|                3.0|                23|                12|           55.41|               1.0|           1035.12|             0.7807|               0.99|            18.18|\n",
      "+-------+------------------+------------------+-------------------+------------------+------------------+----------------+------------------+------------------+-------------------+-------------------+-----------------+\n",
      "\n"
     ]
    },
    {
     "name": "stderr",
     "output_type": "stream",
     "text": [
      "                                                                                \r"
     ]
    }
   ],
   "source": [
    "df.summary([\"distance\", \"price\", \"surge_multiplier\", \"hour\", \"month\", \"temp\", \"clouds\", \"pressure\", \"rain\", \"humidity\", \"wind\"]).show()"
   ]
  },
  {
   "cell_type": "code",
   "execution_count": 132,
   "metadata": {},
   "outputs": [
    {
     "name": "stdout",
     "output_type": "stream",
     "text": [
      "check price isnull:  100679\n"
     ]
    }
   ],
   "source": [
    "check_price = df.filter(f.col(\"price\").isNull())\n",
    "print(\"check price isnull: \", check_price.count())"
   ]
  },
  {
   "cell_type": "code",
   "execution_count": 133,
   "metadata": {},
   "outputs": [
    {
     "name": "stderr",
     "output_type": "stream",
     "text": [
      "                                                                                \r"
     ]
    },
    {
     "data": {
      "text/plain": [
       "1265675"
      ]
     },
     "execution_count": 133,
     "metadata": {},
     "output_type": "execute_result"
    }
   ],
   "source": [
    "df = (df.withColumn(\"rain\", f.when(f.col(\"rain\").isNull(), 0).otherwise(f.col(\"rain\"))))\n",
    "df.count()"
   ]
  },
  {
   "cell_type": "code",
   "execution_count": 134,
   "metadata": {},
   "outputs": [
    {
     "name": "stderr",
     "output_type": "stream",
     "text": [
      "[Stage 269:===================================>                     (5 + 3) / 8]\r"
     ]
    },
    {
     "name": "stdout",
     "output_type": "stream",
     "text": [
      "+-------+-----------------+-----+----------------+------------------+-------------------+-----------------+------------------+------------------+-------------------+-------------------+------------------+\n",
      "|summary|         distance|price|surge_multiplier|              hour|              month|             temp|            clouds|          pressure|               rain|           humidity|              wind|\n",
      "+-------+-----------------+-----+----------------+------------------+-------------------+-----------------+------------------+------------------+-------------------+-------------------+------------------+\n",
      "|  count|           100679|    0|          100679|            100679|             100679|           100679|            100679|            100679|              16636|             100679|            100679|\n",
      "|   mean|2.190055920301131| null|             1.0|12.002622195293954|  11.33063498842857|39.26622016507909|0.6822318457672294|1005.0268542595858|0.06785021038711223| 0.7547849104579784|7.6779809096236304|\n",
      "| stddev|1.178798587388196| null|             0.0| 7.464326988729026|0.47044414238695553|5.477681500353884|0.2996384304808022|12.681138054972111|0.10958687991465829|0.11988299077411271|3.4620785083069427|\n",
      "|    min|             0.02| null|             1.0|                 0|                 11|            19.62|               0.0|            988.25|             2.0E-4|               0.45|              0.29|\n",
      "|    max|             7.86| null|             1.0|                23|                 12|            55.41|               1.0|           1035.12|             0.7807|               0.99|             18.18|\n",
      "+-------+-----------------+-----+----------------+------------------+-------------------+-----------------+------------------+------------------+-------------------+-------------------+------------------+\n",
      "\n"
     ]
    },
    {
     "name": "stderr",
     "output_type": "stream",
     "text": [
      "                                                                                \r"
     ]
    }
   ],
   "source": [
    "check_price.describe([\"distance\", \"price\", \"surge_multiplier\", \"hour\", \"month\", \"temp\", \"clouds\", \"pressure\", \"rain\", \"humidity\", \"wind\"]).show()"
   ]
  },
  {
   "cell_type": "code",
   "execution_count": 135,
   "metadata": {},
   "outputs": [],
   "source": [
    "df = df.where(f.col(\"price\").isNotNull())"
   ]
  },
  {
   "cell_type": "code",
   "execution_count": 136,
   "metadata": {},
   "outputs": [
    {
     "name": "stderr",
     "output_type": "stream",
     "text": [
      "[Stage 273:>                                                        (0 + 8) / 8]\r"
     ]
    },
    {
     "name": "stdout",
     "output_type": "stream",
     "text": [
      "23/02/01 21:39:15 WARN MemoryManager: Total allocation exceeds 95.00% (906,992,014 bytes) of heap memory\n",
      "Scaling row group sizes to 96.54% for 7 writers\n",
      "23/02/01 21:39:15 WARN MemoryManager: Total allocation exceeds 95.00% (906,992,014 bytes) of heap memory\n",
      "Scaling row group sizes to 84.47% for 8 writers\n",
      "23/02/01 21:39:20 WARN MemoryManager: Total allocation exceeds 95.00% (906,992,014 bytes) of heap memory\n",
      "Scaling row group sizes to 96.54% for 7 writers\n"
     ]
    },
    {
     "name": "stderr",
     "output_type": "stream",
     "text": [
      "                                                                                \r"
     ]
    }
   ],
   "source": [
    "df.write.parquet(\"../Uber_Lyft_Cab_prices/df_final.parquet\")"
   ]
  }
 ],
 "metadata": {
  "kernelspec": {
   "display_name": "spark_studies",
   "language": "python",
   "name": "python3"
  },
  "language_info": {
   "codemirror_mode": {
    "name": "ipython",
    "version": 3
   },
   "file_extension": ".py",
   "mimetype": "text/x-python",
   "name": "python",
   "nbconvert_exporter": "python",
   "pygments_lexer": "ipython3",
   "version": "3.10.6 (main, Sep 13 2022, 08:25:40) [Clang 13.1.6 (clang-1316.0.21.2.5)]"
  },
  "orig_nbformat": 4,
  "vscode": {
   "interpreter": {
    "hash": "2bbfa58da02732598eb6cbb078e0d210c079e2fbe2ae9211202bccc7598d6c86"
   }
  }
 },
 "nbformat": 4,
 "nbformat_minor": 2
}
